{
 "cells": [
  {
   "cell_type": "code",
   "execution_count": 1,
   "metadata": {
    "collapsed": false
   },
   "outputs": [
    {
     "name": "stderr",
     "output_type": "stream",
     "text": [
      "/Users/cocjinjb/anaconda/lib/python2.7/site-packages/sklearn/cross_validation.py:44: DeprecationWarning: This module was deprecated in version 0.18 in favor of the model_selection module into which all the refactored classes and functions are moved. Also note that the interface of the new CV iterators are different from that of this module. This module will be removed in 0.20.\n",
      "  \"This module will be removed in 0.20.\", DeprecationWarning)\n",
      "/Users/cocjinjb/anaconda/lib/python2.7/site-packages/sklearn/lda.py:4: DeprecationWarning: lda.LDA has been moved to discriminant_analysis.LinearDiscriminantAnalysis in 0.17 and will be removed in 0.19\n",
      "  \"in 0.17 and will be removed in 0.19\", DeprecationWarning)\n",
      "/Users/cocjinjb/anaconda/lib/python2.7/site-packages/sklearn/qda.py:4: DeprecationWarning: qda.QDA has been moved to discriminant_analysis.QuadraticDiscriminantAnalysis in 0.17 and will be removed in 0.19.\n",
      "  \"in 0.17 and will be removed in 0.19.\", DeprecationWarning)\n"
     ]
    }
   ],
   "source": [
    "import numpy as np\n",
    "import matplotlib.pyplot as plt\n",
    "\n",
    "%load_ext autoreload\n",
    "%autoreload 2\n",
    "%matplotlib inline\n",
    "\n",
    "#this file has all my utility functions -- although I'm reproducing the important ones below\n",
    "from glm_utils import *"
   ]
  },
  {
   "cell_type": "code",
   "execution_count": 2,
   "metadata": {
    "collapsed": true
   },
   "outputs": [],
   "source": [
    "#magic numbers 6 and 9 come from cross validation to find best possible lag and offet. \n",
    "#Note that was done for the natural \n",
    "#scenes stimulus so might not be the best here.\n",
    "\n",
    "def arrange_data_glm(dff_traces, images, stim_table):\n",
    "\t#declare a dictionary of empty lists for each cell trace, \n",
    "\t#and a list for the stimulus\n",
    "\tdata = []\n",
    "\tstim_array = []\n",
    "\tim_array = []\n",
    "\n",
    "\t#average each trace over the presentation of each stimulus\n",
    "\tfor index, row in stim_table.iterrows():\n",
    "\t    stim_array.append(images[row['frame']])\n",
    "\t    im_array.append(row['frame'])\n",
    "\n",
    "\t    try:\n",
    "\t    \tdata.append(np.mean(dff_traces[:, row['start'] + 6 :row['start'] + 9], axis = 1)) #/ np.mean(dff_traces[:, row['start'] : row['start'] - 30], axis = 1) )\n",
    "\t    except:\n",
    "\t    \tdata.append(np.mean(dff_traces[:, row['start']+ 6:row['end']], axis = 1))\n",
    "\tstim_array = np.array(stim_array)\n",
    "\t#stim_array = stim_array[:, 0:10]\n",
    "\n",
    "\tdata = np.array(data)\n",
    "\n",
    "\treturn data, stim_array, im_array\n",
    "\n",
    "def download_data(region, cre_line, stimulus = None):\n",
    "\t'''\n",
    "\tregion = [reg1, reg2, ...]\n",
    "\tcre_line = [line1, line2, ...]\n",
    "\t'''\n",
    "\tboc = BrainObservatoryCache(manifest_file='boc/manifest.json')\n",
    "\tecs = boc.get_experiment_containers(targeted_structures=region, cre_lines=cre_line)\n",
    "\n",
    "\tec_ids = [ ec['id'] for ec in ecs ]\n",
    "\n",
    "\texp = boc.get_ophys_experiments(experiment_container_ids=ec_ids)\n",
    "\n",
    "\tif stimulus == None:\n",
    "\t\texp = boc.get_ophys_experiments(experiment_container_ids=ec_ids)\n",
    "\n",
    "\telse:\n",
    "\t\texp = boc.get_ophys_experiments(experiment_container_ids=ec_ids, stimuli = stimulus)\n",
    "\n",
    "\n",
    "\texp_id_list = [ec['id'] for ec in exp]\n",
    "\n",
    "\tdata_set = {exp_id:boc.get_ophys_experiment_data(exp_id) for exp_id in exp_id_list}\n",
    "\n",
    "\treturn data_set \n",
    "\n",
    "def get_data(data_set, stimulus):\n",
    "\t'''\n",
    "\treturns dff, images, stim_table\n",
    "\t'''\n",
    "\n",
    "\ttime, dff_traces = data_set.get_dff_traces()\n",
    "\n",
    "\ttry:\n",
    "\t\timages = data_set.get_stimulus_template(stimulus)\n",
    "\texcept:\n",
    "\t\tprint \"No stimulus template...\"\n",
    "\t\timages = None\n",
    "\n",
    "\tstim_table = data_set.get_stimulus_table(stimulus)\n",
    "\n",
    "\treturn dff_traces, images, stim_table"
   ]
  },
  {
   "cell_type": "code",
   "execution_count": 3,
   "metadata": {
    "collapsed": true
   },
   "outputs": [],
   "source": [
    "boc = BrainObservatoryCache(manifest_file='boc/manifest.json')\n",
    "\n",
    "regions = ['VISp', 'VISpm', 'VISl', 'VISal']\n",
    "lines =  ['Cux2-CreERT2']#, 'Rbp4-Cre', 'Rorb-IRES2-Cre'] \n",
    "\n",
    "\n",
    "#this dataset just has the locally sparse noise data from layer 2/3 of primary visual cortex\n",
    "data_set = download_data(regions, lines, [stim_info.LOCALLY_SPARSE_NOISE])"
   ]
  },
  {
   "cell_type": "code",
   "execution_count": 7,
   "metadata": {
    "collapsed": false
   },
   "outputs": [
    {
     "data": {
      "text/plain": [
       "[501773889,\n",
       " 504642019,\n",
       " 502634578,\n",
       " 501337989,\n",
       " 530782502,\n",
       " 501717543,\n",
       " 527550473,\n",
       " 510174759,\n",
       " 501474098,\n",
       " 505143581,\n",
       " 501254258,\n",
       " 502974807,\n",
       " 539749336,\n",
       " 525368285,\n",
       " 500855614,\n",
       " 509644421]"
      ]
     },
     "execution_count": 7,
     "metadata": {},
     "output_type": "execute_result"
    }
   ],
   "source": [
    "# experiment container: same target imaging area across specified experiments\n",
    "\n",
    "#these are the IDs of the different datasets that have locally sparse noise \n",
    "#stimulus data, in layer 2/3 of primary visual cortex\n",
    "\n",
    "data_set.keys()"
   ]
  },
  {
   "cell_type": "code",
   "execution_count": 8,
   "metadata": {
    "collapsed": false
   },
   "outputs": [
    {
     "name": "stdout",
     "output_type": "stream",
     "text": [
      "501773889\n"
     ]
    }
   ],
   "source": [
    "from allensdk.brain_observatory.locally_sparse_noise import LocallySparseNoise\n",
    "\n",
    "\n",
    "#here we get the RF's that allen computed, the stimulus images, and the dff data. \n",
    "#This takes a while to run, which is why I'm only doing it for one of the datasets \n",
    "#(which you can roughly think of as being a single mouse)\n",
    "\n",
    "key = data_set.keys()[0]\n",
    "print(key)"
   ]
  },
  {
   "cell_type": "code",
   "execution_count": 15,
   "metadata": {
    "collapsed": false
   },
   "outputs": [
    {
     "data": {
      "text/plain": [
       "210"
      ]
     },
     "execution_count": 15,
     "metadata": {},
     "output_type": "execute_result"
    }
   ],
   "source": [
    "dsi = data_set[501773889]"
   ]
  },
  {
   "cell_type": "code",
   "execution_count": 19,
   "metadata": {
    "collapsed": true
   },
   "outputs": [],
   "source": [
    "def ds_summary(ds):\n",
    "    # how many cells?\n",
    "    num_cells = np.size(ds.get_cell_specimen_ids())\n",
    "    print(\"num_cells: %s\"%(num_cells))"
   ]
  },
  {
   "cell_type": "code",
   "execution_count": 20,
   "metadata": {
    "collapsed": false
   },
   "outputs": [
    {
     "name": "stdout",
     "output_type": "stream",
     "text": [
      "num_cells: 210\n"
     ]
    }
   ],
   "source": [
    "ds_summary(dsi)"
   ]
  },
  {
   "cell_type": "code",
   "execution_count": 22,
   "metadata": {
    "collapsed": false
   },
   "outputs": [],
   "source": [
    "# get the raws\n",
    "dff, images, stim_table = get_data(dsi, stim_info.LOCALLY_SPARSE_NOISE)"
   ]
  },
  {
   "cell_type": "code",
   "execution_count": 23,
   "metadata": {
    "collapsed": false
   },
   "outputs": [
    {
     "name": "stdout",
     "output_type": "stream",
     "text": [
      "((210, 106006), (9000, 16, 28))\n"
     ]
    }
   ],
   "source": [
    "print(dff.shape, images.shape)\n",
    "# (cells, time (val = dff)), ()"
   ]
  },
  {
   "cell_type": "code",
   "execution_count": 29,
   "metadata": {
    "collapsed": false
   },
   "outputs": [
    {
     "data": {
      "image/png": "[encoded data removed]",
      "text/plain": [
       "<matplotlib.figure.Figure at 0x120669950>"
      ]
     },
     "metadata": {},
     "output_type": "display_data"
    }
   ],
   "source": [
    "# plot dff\n",
    "num_cells = dff.shape[0]\n",
    "num_t = dff.shape[1]\n",
    "for icell in range(10):\n",
    "    plt.plot(range(num_t),dff[icell,])"
   ]
  },
  {
   "cell_type": "code",
   "execution_count": 30,
   "metadata": {
    "collapsed": false
   },
   "outputs": [
    {
     "data": {
      "text/plain": [
       "<matplotlib.image.AxesImage at 0x1204a5d90>"
      ]
     },
     "execution_count": 30,
     "metadata": {},
     "output_type": "execute_result"
    },
    {
     "data": {
      "image/png": "[encoded data removed]",
      "text/plain": [
       "<matplotlib.figure.Figure at 0x1204c9510>"
      ]
     },
     "metadata": {},
     "output_type": "display_data"
    }
   ],
   "source": [
    "plt.imshow(images[0,], cmap = \"Greys\")"
   ]
  },
  {
   "cell_type": "code",
   "execution_count": 31,
   "metadata": {
    "collapsed": true
   },
   "outputs": [],
   "source": [
    "#here's where we get the tensors which are useful for fitting models\n",
    "data, stim_array, _ = arrange_data_glm(dff, images, stim_table)"
   ]
  },
  {
   "cell_type": "code",
   "execution_count": 32,
   "metadata": {
    "collapsed": false
   },
   "outputs": [
    {
     "name": "stdout",
     "output_type": "stream",
     "text": [
      "(8880, 210) (8880, 16, 28)\n"
     ]
    }
   ],
   "source": [
    "#data is n_timepoints by n_neurons. stim_array is n_timepoints by im_y by im_x\n",
    "# QUESTION: WHAT DOES TIME MEAN IN THIS CASE... WHY ARE THESE VALS SELECTED? what is the time block that we selected? \n",
    "\n",
    "print data.shape, stim_array.shape\n",
    "# guessing that data represents the average(?) df/f over our given time bin\n",
    "\n",
    "# cell by stimulus presentation\n",
    "# stimulus presentation by img size"
   ]
  },
  {
   "cell_type": "code",
   "execution_count": 34,
   "metadata": {
    "collapsed": false
   },
   "outputs": [
    {
     "ename": "ImportError",
     "evalue": "No module named pyfnnd",
     "output_type": "error",
     "traceback": [
      "\u001b[0;31m---------------------------------------------------------------------------\u001b[0m",
      "\u001b[0;31mImportError\u001b[0m                               Traceback (most recent call last)",
      "\u001b[0;32m<ipython-input-34-e38a50e30ffc>\u001b[0m in \u001b[0;36m<module>\u001b[0;34m()\u001b[0m\n\u001b[0;32m----> 1\u001b[0;31m \u001b[0;32mimport\u001b[0m \u001b[0mpyfnnd\u001b[0m\u001b[0;34m\u001b[0m\u001b[0m\n\u001b[0m",
      "\u001b[0;31mImportError\u001b[0m: No module named pyfnnd"
     ]
    }
   ],
   "source": [
    "import pyfnnd"
   ]
  },
  {
   "cell_type": "code",
   "execution_count": 35,
   "metadata": {
    "collapsed": true
   },
   "outputs": [],
   "source": [
    "# http://www.cns.nyu.edu/pub/lcv/ganmor16a-1601.00364v1.pdf\n",
    "# approach: smooth the spikes to estimate spike rate... is this necessary? \n",
    "# "
   ]
  },
  {
   "cell_type": "code",
   "execution_count": 36,
   "metadata": {
    "collapsed": true
   },
   "outputs": [],
   "source": [
    "# dff\n",
    "# dff > train > rate\n",
    "# dff > rate\n",
    "\n",
    "# start with dff rather than train > rate"
   ]
  },
  {
   "cell_type": "code",
   "execution_count": null,
   "metadata": {
    "collapsed": true
   },
   "outputs": [],
   "source": []
  },
  {
   "cell_type": "code",
   "execution_count": null,
   "metadata": {
    "collapsed": true
   },
   "outputs": [],
   "source": []
  }
 ],
 "metadata": {
  "anaconda-cloud": {},
  "kernelspec": {
   "display_name": "Python 2",
   "language": "python",
   "name": "python2"
  },
  "language_info": {
   "codemirror_mode": {
    "name": "ipython",
    "version": 2
   },
   "file_extension": ".py",
   "mimetype": "text/x-python",
   "name": "python",
   "nbconvert_exporter": "python",
   "pygments_lexer": "ipython2",
   "version": "2.7.12"
  }
 },
 "nbformat": 4,
 "nbformat_minor": 2
}
